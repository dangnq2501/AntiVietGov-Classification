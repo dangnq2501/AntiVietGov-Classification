{
  "nbformat": 4,
  "nbformat_minor": 0,
  "metadata": {
    "colab": {
      "provenance": []
    },
    "kernelspec": {
      "name": "python3",
      "display_name": "Python 3"
    },
    "language_info": {
      "name": "python"
    }
  },
  "cells": [
    {
      "cell_type": "code",
      "execution_count": null,
      "metadata": {
        "id": "tTV7-IQzsT7h",
        "colab": {
          "base_uri": "https://localhost:8080/",
          "height": 87
        },
        "outputId": "6aa41a85-7b1a-4f6f-f000-e84c5f34e8eb"
      },
      "outputs": [
        {
          "output_type": "stream",
          "name": "stdout",
          "text": [
            "\u001b[2K     \u001b[90m━━━━━━━━━━━━━━━━━━━━━━━━━━━━━━━━━━━━━━━━\u001b[0m \u001b[32m413.4/413.4 kB\u001b[0m \u001b[31m4.7 MB/s\u001b[0m eta \u001b[36m0:00:00\u001b[0m\n",
            "\u001b[2K     \u001b[90m━━━━━━━━━━━━━━━━━━━━━━━━━━━━━━━━━━━━━━━━\u001b[0m \u001b[32m233.4/233.4 kB\u001b[0m \u001b[31m7.7 MB/s\u001b[0m eta \u001b[36m0:00:00\u001b[0m\n",
            "\u001b[2K     \u001b[90m━━━━━━━━━━━━━━━━━━━━━━━━━━━━━━━━━━━━━━━━\u001b[0m \u001b[32m78.7/78.7 kB\u001b[0m \u001b[31m4.3 MB/s\u001b[0m eta \u001b[36m0:00:00\u001b[0m\n",
            "\u001b[?25h"
          ]
        },
        {
          "output_type": "execute_result",
          "data": {
            "text/plain": [
              "'3.5.0'"
            ],
            "application/vnd.google.colaboratory.intrinsic+json": {
              "type": "string"
            }
          },
          "metadata": {},
          "execution_count": 1
        }
      ],
      "source": [
        "!pip install --quiet optuna\n",
        "import optuna\n",
        "\n",
        "optuna.__version__"
      ]
    },
    {
      "cell_type": "code",
      "source": [
        "import sklearn.datasets\n",
        "import sklearn.ensemble\n",
        "import sklearn.model_selection\n",
        "\n",
        "\n",
        "def objective():\n",
        "    iris = sklearn.datasets.load_iris()  # Prepare the data.\n",
        "\n",
        "    clf = sklearn.ensemble.RandomForestClassifier(n_estimators=5, max_depth=3)  # Define the model.\n",
        "\n",
        "    return sklearn.model_selection.cross_val_score(\n",
        "        clf, iris.data, iris.target, n_jobs=-1, cv=3\n",
        "    ).mean()  # Train and evaluate the model.\n",
        "\n",
        "\n",
        "print(\"Accuracy: {}\".format(objective()))"
      ],
      "metadata": {
        "colab": {
          "base_uri": "https://localhost:8080/"
        },
        "id": "9MxQJkF3mWaO",
        "outputId": "81315a68-083b-416b-aa3e-bc0be0910fba"
      },
      "execution_count": null,
      "outputs": [
        {
          "output_type": "stream",
          "name": "stdout",
          "text": [
            "Accuracy: 0.9533333333333333\n"
          ]
        }
      ]
    },
    {
      "cell_type": "code",
      "source": [
        "from google.colab import drive\n",
        "drive.mount('/content/drive')\n",
        "import csv\n",
        "import numpy as np\n",
        "import pandas as pd\n",
        "df = pd.read_csv('/content/drive/MyDrive/dataset/breast-cancer.csv')\n",
        "print(df.columns)\n",
        "print(df.describe())\n"
      ],
      "metadata": {
        "colab": {
          "base_uri": "https://localhost:8080/"
        },
        "id": "UaINnLJ3mW4h",
        "outputId": "fceb2979-74a2-4b4d-ea8f-1faf5d3a7281"
      },
      "execution_count": null,
      "outputs": [
        {
          "output_type": "stream",
          "name": "stdout",
          "text": [
            "Mounted at /content/drive\n",
            "Index(['id', 'diagnosis', 'radius_mean', 'texture_mean', 'perimeter_mean',\n",
            "       'area_mean', 'smoothness_mean', 'compactness_mean', 'concavity_mean',\n",
            "       'concave points_mean', 'symmetry_mean', 'fractal_dimension_mean',\n",
            "       'radius_se', 'texture_se', 'perimeter_se', 'area_se', 'smoothness_se',\n",
            "       'compactness_se', 'concavity_se', 'concave points_se', 'symmetry_se',\n",
            "       'fractal_dimension_se', 'radius_worst', 'texture_worst',\n",
            "       'perimeter_worst', 'area_worst', 'smoothness_worst',\n",
            "       'compactness_worst', 'concavity_worst', 'concave points_worst',\n",
            "       'symmetry_worst', 'fractal_dimension_worst'],\n",
            "      dtype='object')\n",
            "                 id  radius_mean  texture_mean  perimeter_mean    area_mean  \\\n",
            "count  5.690000e+02   569.000000    569.000000      569.000000   569.000000   \n",
            "mean   3.037183e+07    14.127292     19.289649       91.969033   654.889104   \n",
            "std    1.250206e+08     3.524049      4.301036       24.298981   351.914129   \n",
            "min    8.670000e+03     6.981000      9.710000       43.790000   143.500000   \n",
            "25%    8.692180e+05    11.700000     16.170000       75.170000   420.300000   \n",
            "50%    9.060240e+05    13.370000     18.840000       86.240000   551.100000   \n",
            "75%    8.813129e+06    15.780000     21.800000      104.100000   782.700000   \n",
            "max    9.113205e+08    28.110000     39.280000      188.500000  2501.000000   \n",
            "\n",
            "       smoothness_mean  compactness_mean  concavity_mean  concave points_mean  \\\n",
            "count       569.000000        569.000000      569.000000           569.000000   \n",
            "mean          0.096360          0.104341        0.088799             0.048919   \n",
            "std           0.014064          0.052813        0.079720             0.038803   \n",
            "min           0.052630          0.019380        0.000000             0.000000   \n",
            "25%           0.086370          0.064920        0.029560             0.020310   \n",
            "50%           0.095870          0.092630        0.061540             0.033500   \n",
            "75%           0.105300          0.130400        0.130700             0.074000   \n",
            "max           0.163400          0.345400        0.426800             0.201200   \n",
            "\n",
            "       symmetry_mean  ...  radius_worst  texture_worst  perimeter_worst  \\\n",
            "count     569.000000  ...    569.000000     569.000000       569.000000   \n",
            "mean        0.181162  ...     16.269190      25.677223       107.261213   \n",
            "std         0.027414  ...      4.833242       6.146258        33.602542   \n",
            "min         0.106000  ...      7.930000      12.020000        50.410000   \n",
            "25%         0.161900  ...     13.010000      21.080000        84.110000   \n",
            "50%         0.179200  ...     14.970000      25.410000        97.660000   \n",
            "75%         0.195700  ...     18.790000      29.720000       125.400000   \n",
            "max         0.304000  ...     36.040000      49.540000       251.200000   \n",
            "\n",
            "        area_worst  smoothness_worst  compactness_worst  concavity_worst  \\\n",
            "count   569.000000        569.000000         569.000000       569.000000   \n",
            "mean    880.583128          0.132369           0.254265         0.272188   \n",
            "std     569.356993          0.022832           0.157336         0.208624   \n",
            "min     185.200000          0.071170           0.027290         0.000000   \n",
            "25%     515.300000          0.116600           0.147200         0.114500   \n",
            "50%     686.500000          0.131300           0.211900         0.226700   \n",
            "75%    1084.000000          0.146000           0.339100         0.382900   \n",
            "max    4254.000000          0.222600           1.058000         1.252000   \n",
            "\n",
            "       concave points_worst  symmetry_worst  fractal_dimension_worst  \n",
            "count            569.000000      569.000000               569.000000  \n",
            "mean               0.114606        0.290076                 0.083946  \n",
            "std                0.065732        0.061867                 0.018061  \n",
            "min                0.000000        0.156500                 0.055040  \n",
            "25%                0.064930        0.250400                 0.071460  \n",
            "50%                0.099930        0.282200                 0.080040  \n",
            "75%                0.161400        0.317900                 0.092080  \n",
            "max                0.291000        0.663800                 0.207500  \n",
            "\n",
            "[8 rows x 31 columns]\n"
          ]
        }
      ]
    },
    {
      "cell_type": "code",
      "source": [
        "from sklearn.ensemble import RandomForestClassifier\n",
        "from sklearn.model_selection import train_test_split\n",
        "import optuna\n",
        "\n",
        "X = df.drop(['diagnosis'], axis=1)\n",
        "y = df['diagnosis']\n",
        "\n",
        "X_train, X_test, y_train, y_test = train_test_split(X, y, test_size=0.2)\n",
        "def objective(trial):\n",
        "    n_estimators = trial.suggest_int(\"n_estimators\", 2, 20)\n",
        "    max_depth = int(trial.suggest_float(\"max_depth\", 1, 32, log=True))\n",
        "\n",
        "    clf = sklearn.ensemble.RandomForestClassifier(n_estimators=n_estimators, max_depth=max_depth)\n",
        "\n",
        "    return sklearn.model_selection.cross_val_score(\n",
        "        clf, X_train, y_train, n_jobs=-1, cv=3\n",
        "    ).mean()\n",
        "\n",
        "\n",
        "study = optuna.create_study(direction=\"maximize\")\n",
        "study.optimize(objective, n_trials=100)\n",
        "\n",
        "trial = study.best_trial\n",
        "\n",
        "print(\"Accuracy: {}\".format(trial.value))\n",
        "print(\"Best hyperparameters: {}\".format(trial.params))\n",
        "model = sklearn.ensemble.RandomForestClassifier(n_estimators=int(trial.params['n_estimators']), max_depth=int(trial.params['max_depth']))\n",
        "model.fit(X_train, y_train)\n",
        "y_pred = model.predict(X_train)\n",
        "print(\"Train accuray: \", (y_pred == y_train).sum() / len(y_pred))\n",
        "y_pred = model.predict(X_test)\n",
        "print(\"Test accuray: \", (y_pred == y_test).sum() / len(y_pred))"
      ],
      "metadata": {
        "colab": {
          "base_uri": "https://localhost:8080/"
        },
        "id": "EQPiR7H_taWg",
        "outputId": "c6f835e5-0b97-4c2d-f17c-834703f551db"
      },
      "execution_count": null,
      "outputs": [
        {
          "output_type": "stream",
          "name": "stderr",
          "text": [
            "[I 2024-03-02 06:27:36,945] A new study created in memory with name: no-name-d6a73ed2-aa4a-46b8-89af-90b717862344\n",
            "[I 2024-03-02 06:27:37,172] Trial 0 finished with value: 0.9582316718949692 and parameters: {'n_estimators': 13, 'max_depth': 12.92147466920162}. Best is trial 0 with value: 0.9582316718949692.\n",
            "[I 2024-03-02 06:27:37,356] Trial 1 finished with value: 0.9428807947019867 and parameters: {'n_estimators': 6, 'max_depth': 6.688760695546129}. Best is trial 0 with value: 0.9582316718949692.\n",
            "[I 2024-03-02 06:27:37,463] Trial 2 finished with value: 0.9165069129778088 and parameters: {'n_estimators': 3, 'max_depth': 1.915294052632052}. Best is trial 0 with value: 0.9582316718949692.\n",
            "[I 2024-03-02 06:27:37,702] Trial 3 finished with value: 0.960439177413733 and parameters: {'n_estimators': 12, 'max_depth': 7.704394176389323}. Best is trial 3 with value: 0.960439177413733.\n",
            "[I 2024-03-02 06:27:37,833] Trial 4 finished with value: 0.9362728012083189 and parameters: {'n_estimators': 3, 'max_depth': 23.138413964476587}. Best is trial 3 with value: 0.960439177413733.\n",
            "[I 2024-03-02 06:27:37,982] Trial 5 finished with value: 0.9032764029278494 and parameters: {'n_estimators': 5, 'max_depth': 1.3707423476830485}. Best is trial 3 with value: 0.960439177413733.\n",
            "[I 2024-03-02 06:27:38,224] Trial 6 finished with value: 0.9560386894388287 and parameters: {'n_estimators': 10, 'max_depth': 15.650365875071564}. Best is trial 3 with value: 0.960439177413733.\n",
            "[I 2024-03-02 06:27:38,359] Trial 7 finished with value: 0.9296067154641571 and parameters: {'n_estimators': 3, 'max_depth': 3.857842887197162}. Best is trial 3 with value: 0.960439177413733.\n",
            "[I 2024-03-02 06:27:38,554] Trial 8 finished with value: 0.934065295689555 and parameters: {'n_estimators': 5, 'max_depth': 29.05472611609614}. Best is trial 3 with value: 0.960439177413733.\n",
            "[I 2024-03-02 06:27:38,931] Trial 9 finished with value: 0.920849308702219 and parameters: {'n_estimators': 20, 'max_depth': 1.2362662296012268}. Best is trial 3 with value: 0.960439177413733.\n",
            "[I 2024-03-02 06:27:39,320] Trial 10 finished with value: 0.9428662716393633 and parameters: {'n_estimators': 16, 'max_depth': 6.572153969149919}. Best is trial 3 with value: 0.960439177413733.\n",
            "[I 2024-03-02 06:27:39,718] Trial 11 finished with value: 0.953860230045312 and parameters: {'n_estimators': 13, 'max_depth': 11.751749600163249}. Best is trial 3 with value: 0.960439177413733.\n",
            "[I 2024-03-02 06:27:40,357] Trial 12 finished with value: 0.9516236784013014 and parameters: {'n_estimators': 11, 'max_depth': 10.979697640671807}. Best is trial 3 with value: 0.960439177413733.\n",
            "[I 2024-03-02 06:27:40,690] Trial 13 finished with value: 0.9406297199953526 and parameters: {'n_estimators': 14, 'max_depth': 3.4285532909781344}. Best is trial 3 with value: 0.960439177413733.\n",
            "[I 2024-03-02 06:27:40,825] Trial 14 finished with value: 0.9516382014639246 and parameters: {'n_estimators': 9, 'max_depth': 9.504400891215717}. Best is trial 3 with value: 0.960439177413733.\n",
            "[I 2024-03-02 06:27:41,032] Trial 15 finished with value: 0.9494597420704078 and parameters: {'n_estimators': 17, 'max_depth': 17.13469514436328}. Best is trial 3 with value: 0.960439177413733.\n",
            "[I 2024-03-02 06:27:41,221] Trial 16 finished with value: 0.9318432671081678 and parameters: {'n_estimators': 15, 'max_depth': 3.6794446145332365}. Best is trial 3 with value: 0.960439177413733.\n",
            "[I 2024-03-02 06:27:41,371] Trial 17 finished with value: 0.9406297199953526 and parameters: {'n_estimators': 8, 'max_depth': 5.29308412342248}. Best is trial 3 with value: 0.960439177413733.\n",
            "[I 2024-03-02 06:27:41,566] Trial 18 finished with value: 0.9428227024514929 and parameters: {'n_estimators': 12, 'max_depth': 8.474774036514304}. Best is trial 3 with value: 0.960439177413733.\n",
            "[I 2024-03-02 06:27:41,816] Trial 19 finished with value: 0.9538166608574415 and parameters: {'n_estimators': 19, 'max_depth': 14.901690696885263}. Best is trial 3 with value: 0.960439177413733.\n",
            "[I 2024-03-02 06:27:41,916] Trial 20 finished with value: 0.953831183920065 and parameters: {'n_estimators': 8, 'max_depth': 20.687566943837464}. Best is trial 3 with value: 0.960439177413733.\n",
            "[I 2024-03-02 06:27:42,008] Trial 21 finished with value: 0.9494161728825374 and parameters: {'n_estimators': 10, 'max_depth': 12.989028681948511}. Best is trial 3 with value: 0.960439177413733.\n",
            "[I 2024-03-02 06:27:42,122] Trial 22 finished with value: 0.9560532125014524 and parameters: {'n_estimators': 12, 'max_depth': 31.028109046531245}. Best is trial 3 with value: 0.960439177413733.\n",
            "[I 2024-03-02 06:27:42,244] Trial 23 finished with value: 0.9406587661205995 and parameters: {'n_estimators': 13, 'max_depth': 31.70472814618398}. Best is trial 3 with value: 0.960439177413733.\n",
            "[I 2024-03-02 06:27:42,379] Trial 24 finished with value: 0.9450592540955037 and parameters: {'n_estimators': 17, 'max_depth': 21.44334887190994}. Best is trial 3 with value: 0.960439177413733.\n",
            "[I 2024-03-02 06:27:42,495] Trial 25 finished with value: 0.9406151969327291 and parameters: {'n_estimators': 12, 'max_depth': 5.092049626702122}. Best is trial 3 with value: 0.960439177413733.\n",
            "[I 2024-03-02 06:27:42,627] Trial 26 finished with value: 0.9472231904263971 and parameters: {'n_estimators': 14, 'max_depth': 8.329750456955162}. Best is trial 3 with value: 0.960439177413733.\n",
            "[I 2024-03-02 06:27:42,755] Trial 27 finished with value: 0.9406732891832229 and parameters: {'n_estimators': 11, 'max_depth': 25.831890704798578}. Best is trial 3 with value: 0.960439177413733.\n",
            "[I 2024-03-02 06:27:42,870] Trial 28 finished with value: 0.9384076914139653 and parameters: {'n_estimators': 15, 'max_depth': 2.3929230511760484}. Best is trial 3 with value: 0.960439177413733.\n",
            "[I 2024-03-02 06:27:42,956] Trial 29 finished with value: 0.9494742651330311 and parameters: {'n_estimators': 7, 'max_depth': 6.986916365405946}. Best is trial 3 with value: 0.960439177413733.\n",
            "[I 2024-03-02 06:27:43,089] Trial 30 finished with value: 0.9516527245265481 and parameters: {'n_estimators': 18, 'max_depth': 16.47070326447414}. Best is trial 3 with value: 0.960439177413733.\n",
            "[I 2024-03-02 06:27:43,190] Trial 31 finished with value: 0.9406878122458463 and parameters: {'n_estimators': 10, 'max_depth': 17.568541811069373}. Best is trial 3 with value: 0.960439177413733.\n",
            "[I 2024-03-02 06:27:43,305] Trial 32 finished with value: 0.9538747531079355 and parameters: {'n_estimators': 12, 'max_depth': 13.929556175310138}. Best is trial 3 with value: 0.960439177413733.\n",
            "[I 2024-03-02 06:27:43,413] Trial 33 finished with value: 0.9516236784013014 and parameters: {'n_estimators': 10, 'max_depth': 10.104458764541954}. Best is trial 3 with value: 0.960439177413733.\n",
            "[I 2024-03-02 06:27:43,544] Trial 34 finished with value: 0.9494306959451609 and parameters: {'n_estimators': 13, 'max_depth': 20.24660303667778}. Best is trial 3 with value: 0.960439177413733.\n",
            "[I 2024-03-02 06:27:43,650] Trial 35 finished with value: 0.9318287440455443 and parameters: {'n_estimators': 11, 'max_depth': 26.48626041937878}. Best is trial 3 with value: 0.960439177413733.\n",
            "[I 2024-03-02 06:27:43,752] Trial 36 finished with value: 0.9428372255141165 and parameters: {'n_estimators': 9, 'max_depth': 7.07153470247605}. Best is trial 3 with value: 0.960439177413733.\n",
            "[I 2024-03-02 06:27:43,837] Trial 37 finished with value: 0.9450592540955037 and parameters: {'n_estimators': 6, 'max_depth': 13.31961956160152}. Best is trial 3 with value: 0.960439177413733.\n",
            "[I 2024-03-02 06:27:43,951] Trial 38 finished with value: 0.9384512606018357 and parameters: {'n_estimators': 14, 'max_depth': 4.352627638845388}. Best is trial 3 with value: 0.960439177413733.\n",
            "[I 2024-03-02 06:27:44,006] Trial 39 finished with value: 0.9384803067270826 and parameters: {'n_estimators': 2, 'max_depth': 23.23851528527296}. Best is trial 3 with value: 0.960439177413733.\n",
            "[I 2024-03-02 06:27:44,132] Trial 40 finished with value: 0.9516236784013011 and parameters: {'n_estimators': 15, 'max_depth': 8.511692197528543}. Best is trial 3 with value: 0.960439177413733.\n",
            "[I 2024-03-02 06:27:44,237] Trial 41 finished with value: 0.9450592540955037 and parameters: {'n_estimators': 12, 'max_depth': 13.712884706612957}. Best is trial 3 with value: 0.960439177413733.\n",
            "[I 2024-03-02 06:27:44,340] Trial 42 finished with value: 0.9450883002207506 and parameters: {'n_estimators': 12, 'max_depth': 11.469728640256308}. Best is trial 3 with value: 0.960439177413733.\n",
            "[I 2024-03-02 06:27:44,455] Trial 43 finished with value: 0.9472086673637737 and parameters: {'n_estimators': 11, 'max_depth': 17.83509683373399}. Best is trial 3 with value: 0.960439177413733.\n",
            "[I 2024-03-02 06:27:44,569] Trial 44 finished with value: 0.9406442430579761 and parameters: {'n_estimators': 13, 'max_depth': 6.302726061751202}. Best is trial 3 with value: 0.960439177413733.\n",
            "[I 2024-03-02 06:27:44,665] Trial 45 finished with value: 0.9428081793888695 and parameters: {'n_estimators': 9, 'max_depth': 9.965808256447128}. Best is trial 3 with value: 0.960439177413733.\n",
            "[I 2024-03-02 06:27:44,813] Trial 46 finished with value: 0.9472522365516441 and parameters: {'n_estimators': 16, 'max_depth': 15.574989437767412}. Best is trial 3 with value: 0.960439177413733.\n",
            "[I 2024-03-02 06:27:44,925] Trial 47 finished with value: 0.9341088648774254 and parameters: {'n_estimators': 14, 'max_depth': 1.0623090210826163}. Best is trial 3 with value: 0.960439177413733.\n",
            "[I 2024-03-02 06:27:45,033] Trial 48 finished with value: 0.9362292320204485 and parameters: {'n_estimators': 10, 'max_depth': 11.908080366275158}. Best is trial 3 with value: 0.960439177413733.\n",
            "[I 2024-03-02 06:27:45,126] Trial 49 finished with value: 0.953860230045312 and parameters: {'n_estimators': 8, 'max_depth': 2.6905338955427682}. Best is trial 3 with value: 0.960439177413733.\n",
            "[I 2024-03-02 06:27:45,254] Trial 50 finished with value: 0.9472522365516441 and parameters: {'n_estimators': 13, 'max_depth': 25.100244444935523}. Best is trial 3 with value: 0.960439177413733.\n",
            "[I 2024-03-02 06:27:45,374] Trial 51 finished with value: 0.9494452190077842 and parameters: {'n_estimators': 12, 'max_depth': 11.74843193962902}. Best is trial 3 with value: 0.960439177413733.\n",
            "[I 2024-03-02 06:27:45,496] Trial 52 finished with value: 0.9472377134890205 and parameters: {'n_estimators': 13, 'max_depth': 8.245795126856274}. Best is trial 3 with value: 0.960439177413733.\n",
            "[I 2024-03-02 06:27:45,602] Trial 53 finished with value: 0.9560386894388287 and parameters: {'n_estimators': 11, 'max_depth': 18.89116371753202}. Best is trial 3 with value: 0.960439177413733.\n",
            "[I 2024-03-02 06:27:45,701] Trial 54 finished with value: 0.9450883002207506 and parameters: {'n_estimators': 9, 'max_depth': 31.948804929817868}. Best is trial 3 with value: 0.960439177413733.\n",
            "[I 2024-03-02 06:27:45,808] Trial 55 finished with value: 0.9494887881956547 and parameters: {'n_estimators': 11, 'max_depth': 18.695574202307526}. Best is trial 3 with value: 0.960439177413733.\n",
            "[I 2024-03-02 06:27:45,905] Trial 56 finished with value: 0.9406442430579761 and parameters: {'n_estimators': 10, 'max_depth': 14.702670392036561}. Best is trial 3 with value: 0.960439177413733.\n",
            "[I 2024-03-02 06:27:46,021] Trial 57 finished with value: 0.9560241663762055 and parameters: {'n_estimators': 12, 'max_depth': 22.192458379601064}. Best is trial 3 with value: 0.960439177413733.\n",
            "[I 2024-03-02 06:27:46,146] Trial 58 finished with value: 0.9472667596142674 and parameters: {'n_estimators': 14, 'max_depth': 29.09420287221431}. Best is trial 3 with value: 0.960439177413733.\n",
            "[I 2024-03-02 06:27:46,314] Trial 59 finished with value: 0.9362437550830719 and parameters: {'n_estimators': 11, 'max_depth': 21.99715366146482}. Best is trial 3 with value: 0.960439177413733.\n",
            "[I 2024-03-02 06:27:46,721] Trial 60 finished with value: 0.9406151969327291 and parameters: {'n_estimators': 15, 'max_depth': 19.9177593051522}. Best is trial 3 with value: 0.960439177413733.\n",
            "[I 2024-03-02 06:27:46,938] Trial 61 finished with value: 0.9516382014639246 and parameters: {'n_estimators': 12, 'max_depth': 23.94566544435309}. Best is trial 3 with value: 0.960439177413733.\n",
            "[I 2024-03-02 06:27:47,048] Trial 62 finished with value: 0.9450592540955037 and parameters: {'n_estimators': 12, 'max_depth': 27.062933652180213}. Best is trial 3 with value: 0.960439177413733.\n",
            "[I 2024-03-02 06:27:47,155] Trial 63 finished with value: 0.9472522365516441 and parameters: {'n_estimators': 11, 'max_depth': 15.795171832744634}. Best is trial 3 with value: 0.960439177413733.\n",
            "[I 2024-03-02 06:27:47,272] Trial 64 finished with value: 0.953860230045312 and parameters: {'n_estimators': 13, 'max_depth': 19.039740550917926}. Best is trial 3 with value: 0.960439177413733.\n",
            "[I 2024-03-02 06:27:47,367] Trial 65 finished with value: 0.9472667596142674 and parameters: {'n_estimators': 10, 'max_depth': 13.597821292797445}. Best is trial 3 with value: 0.960439177413733.\n",
            "[I 2024-03-02 06:27:47,480] Trial 66 finished with value: 0.9406151969327291 and parameters: {'n_estimators': 12, 'max_depth': 22.10138575350508}. Best is trial 3 with value: 0.960439177413733.\n",
            "[I 2024-03-02 06:27:47,589] Trial 67 finished with value: 0.9252497966771234 and parameters: {'n_estimators': 14, 'max_depth': 1.593072345657968}. Best is trial 3 with value: 0.960439177413733.\n",
            "[I 2024-03-02 06:27:47,683] Trial 68 finished with value: 0.9384222144765889 and parameters: {'n_estimators': 8, 'max_depth': 28.466680923963846}. Best is trial 3 with value: 0.960439177413733.\n",
            "[I 2024-03-02 06:27:47,779] Trial 69 finished with value: 0.9428081793888695 and parameters: {'n_estimators': 9, 'max_depth': 17.14768566458372}. Best is trial 3 with value: 0.960439177413733.\n",
            "[I 2024-03-02 06:27:47,889] Trial 70 finished with value: 0.9450156849076333 and parameters: {'n_estimators': 11, 'max_depth': 9.39975455426849}. Best is trial 3 with value: 0.960439177413733.\n",
            "[I 2024-03-02 06:27:48,008] Trial 71 finished with value: 0.9538166608574415 and parameters: {'n_estimators': 13, 'max_depth': 12.2555212791217}. Best is trial 3 with value: 0.960439177413733.\n",
            "[I 2024-03-02 06:27:48,146] Trial 72 finished with value: 0.9428372255141165 and parameters: {'n_estimators': 16, 'max_depth': 14.63471582016174}. Best is trial 3 with value: 0.960439177413733.\n",
            "[I 2024-03-02 06:27:48,250] Trial 73 finished with value: 0.9472231904263971 and parameters: {'n_estimators': 12, 'max_depth': 10.99804698337724}. Best is trial 3 with value: 0.960439177413733.\n",
            "[I 2024-03-02 06:27:48,367] Trial 74 finished with value: 0.9494597420704078 and parameters: {'n_estimators': 13, 'max_depth': 9.152174823338465}. Best is trial 3 with value: 0.960439177413733.\n",
            "[I 2024-03-02 06:27:48,474] Trial 75 finished with value: 0.9428807947019867 and parameters: {'n_estimators': 10, 'max_depth': 10.639200875611001}. Best is trial 3 with value: 0.960439177413733.\n",
            "[I 2024-03-02 06:27:48,578] Trial 76 finished with value: 0.9472231904263971 and parameters: {'n_estimators': 11, 'max_depth': 7.78434639649878}. Best is trial 3 with value: 0.960439177413733.\n",
            "[I 2024-03-02 06:27:48,692] Trial 77 finished with value: 0.9451028232833739 and parameters: {'n_estimators': 13, 'max_depth': 13.017683160303868}. Best is trial 3 with value: 0.960439177413733.\n",
            "[I 2024-03-02 06:27:48,816] Trial 78 finished with value: 0.9538457069826886 and parameters: {'n_estimators': 15, 'max_depth': 4.77626630195238}. Best is trial 3 with value: 0.960439177413733.\n",
            "[I 2024-03-02 06:27:48,933] Trial 79 finished with value: 0.9450302079702567 and parameters: {'n_estimators': 12, 'max_depth': 16.281859254239777}. Best is trial 3 with value: 0.960439177413733.\n",
            "[I 2024-03-02 06:27:49,055] Trial 80 finished with value: 0.9538457069826886 and parameters: {'n_estimators': 14, 'max_depth': 20.55064547153054}. Best is trial 3 with value: 0.960439177413733.\n",
            "[I 2024-03-02 06:27:49,141] Trial 81 finished with value: 0.9296938538398978 and parameters: {'n_estimators': 7, 'max_depth': 2.4513084965405936}. Best is trial 3 with value: 0.960439177413733.\n",
            "[I 2024-03-02 06:27:49,240] Trial 82 finished with value: 0.9340217265016847 and parameters: {'n_estimators': 8, 'max_depth': 4.169150899208509}. Best is trial 3 with value: 0.960439177413733.\n",
            "[I 2024-03-02 06:27:49,317] Trial 83 finished with value: 0.9494742651330311 and parameters: {'n_estimators': 6, 'max_depth': 2.629540321379138}. Best is trial 3 with value: 0.960439177413733.\n",
            "[I 2024-03-02 06:27:49,417] Trial 84 finished with value: 0.9450447310328802 and parameters: {'n_estimators': 10, 'max_depth': 2.915015420845223}. Best is trial 3 with value: 0.960439177413733.\n",
            "[I 2024-03-02 06:27:49,508] Trial 85 finished with value: 0.9406442430579761 and parameters: {'n_estimators': 7, 'max_depth': 5.943307359886433}. Best is trial 3 with value: 0.960439177413733.\n",
            "[I 2024-03-02 06:27:49,586] Trial 86 finished with value: 0.9450447310328802 and parameters: {'n_estimators': 5, 'max_depth': 17.865124866206646}. Best is trial 3 with value: 0.960439177413733.\n",
            "[I 2024-03-02 06:27:49,705] Trial 87 finished with value: 0.9494161728825374 and parameters: {'n_estimators': 11, 'max_depth': 14.56294160135554}. Best is trial 3 with value: 0.960439177413733.\n",
            "[I 2024-03-02 06:27:49,790] Trial 88 finished with value: 0.9472812826768909 and parameters: {'n_estimators': 8, 'max_depth': 24.387699323091226}. Best is trial 3 with value: 0.960439177413733.\n",
            "[I 2024-03-02 06:27:49,883] Trial 89 finished with value: 0.9384367375392122 and parameters: {'n_estimators': 9, 'max_depth': 12.512729350130527}. Best is trial 3 with value: 0.960439177413733.\n",
            "[I 2024-03-02 06:27:50,013] Trial 90 finished with value: 0.9275008713837574 and parameters: {'n_estimators': 12, 'max_depth': 1.5117885667012094}. Best is trial 3 with value: 0.960439177413733.\n",
            "[I 2024-03-02 06:27:50,130] Trial 91 finished with value: 0.9560677355640758 and parameters: {'n_estimators': 13, 'max_depth': 18.640680798386143}. Best is trial 3 with value: 0.960439177413733.\n",
            "[I 2024-03-02 06:27:50,260] Trial 92 finished with value: 0.9406151969327291 and parameters: {'n_estimators': 14, 'max_depth': 3.253917102418242}. Best is trial 3 with value: 0.960439177413733.\n",
            "[I 2024-03-02 06:27:50,382] Trial 93 finished with value: 0.9428081793888695 and parameters: {'n_estimators': 13, 'max_depth': 18.591402145337145}. Best is trial 3 with value: 0.960439177413733.\n",
            "[I 2024-03-02 06:27:50,492] Trial 94 finished with value: 0.920849308702219 and parameters: {'n_estimators': 12, 'max_depth': 1.9952813905128166}. Best is trial 3 with value: 0.960439177413733.\n",
            "[I 2024-03-02 06:27:50,604] Trial 95 finished with value: 0.9560241663762055 and parameters: {'n_estimators': 11, 'max_depth': 29.80840836019874}. Best is trial 3 with value: 0.960439177413733.\n",
            "[I 2024-03-02 06:27:50,721] Trial 96 finished with value: 0.9538457069826886 and parameters: {'n_estimators': 11, 'max_depth': 29.912082255628835}. Best is trial 3 with value: 0.960439177413733.\n",
            "[I 2024-03-02 06:27:50,829] Trial 97 finished with value: 0.953860230045312 and parameters: {'n_estimators': 12, 'max_depth': 26.577382262191815}. Best is trial 3 with value: 0.960439177413733.\n",
            "[I 2024-03-02 06:27:50,947] Trial 98 finished with value: 0.9450156849076333 and parameters: {'n_estimators': 13, 'max_depth': 22.19758029409471}. Best is trial 3 with value: 0.960439177413733.\n",
            "[I 2024-03-02 06:27:51,078] Trial 99 finished with value: 0.9472231904263971 and parameters: {'n_estimators': 11, 'max_depth': 19.73500004692913}. Best is trial 3 with value: 0.960439177413733.\n"
          ]
        },
        {
          "output_type": "stream",
          "name": "stdout",
          "text": [
            "Accuracy: 0.960439177413733\n",
            "Best hyperparameters: {'n_estimators': 12, 'max_depth': 7.704394176389323}\n",
            "Train accuray:  1.0\n",
            "Test accuray:  0.9473684210526315\n"
          ]
        }
      ]
    },
    {
      "cell_type": "code",
      "source": [],
      "metadata": {
        "id": "tTB_PAkeyt40"
      },
      "execution_count": null,
      "outputs": []
    }
  ]
}