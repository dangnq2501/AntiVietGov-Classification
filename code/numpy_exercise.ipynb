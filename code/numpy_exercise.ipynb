{
  "nbformat": 4,
  "nbformat_minor": 0,
  "metadata": {
    "colab": {
      "provenance": []
    },
    "kernelspec": {
      "name": "python3",
      "display_name": "Python 3"
    },
    "language_info": {
      "name": "python"
    }
  },
  "cells": [
    {
      "cell_type": "code",
      "execution_count": null,
      "metadata": {
        "id": "zOkJYxzOy9w4"
      },
      "outputs": [],
      "source": [
        "import numpy as np\n"
      ]
    },
    {
      "cell_type": "code",
      "source": [],
      "metadata": {
        "id": "olSkmakipC--"
      },
      "execution_count": null,
      "outputs": []
    },
    {
      "cell_type": "markdown",
      "source": [
        "https://www.w3resource.com/python-exercises/numpy/python-numpy-stat.php"
      ],
      "metadata": {
        "id": "ElHaZ15p7Fc_"
      }
    },
    {
      "cell_type": "markdown",
      "source": [
        "Write a Python program to find the maximum and minimum value of a given flattened array."
      ],
      "metadata": {
        "id": "rbIh3r3Y7M8e"
      }
    },
    {
      "cell_type": "code",
      "source": [
        "arr = np.array([[3, 0], [1, 2]])\n",
        "print(arr.max())\n",
        "print(arr.min())"
      ],
      "metadata": {
        "colab": {
          "base_uri": "https://localhost:8080/"
        },
        "id": "TNX-AjoF0v3h",
        "outputId": "2f09035c-2405-4ef7-8a82-16b0e4621af5"
      },
      "execution_count": null,
      "outputs": [
        {
          "output_type": "stream",
          "name": "stdout",
          "text": [
            "3\n",
            "0\n"
          ]
        }
      ]
    },
    {
      "cell_type": "markdown",
      "source": [
        "Write a NumPy program to get the minimum and maximum value of a given array along the second axis."
      ],
      "metadata": {
        "id": "admndtWa7QQI"
      }
    },
    {
      "cell_type": "code",
      "source": [
        "arr = np.array([[3, 0], [1, 2]])\n",
        "print(\"Max: \", arr.max(axis=0))\n",
        "print(\"Min: \", arr.min(axis=0))"
      ],
      "metadata": {
        "colab": {
          "base_uri": "https://localhost:8080/"
        },
        "id": "YAVD55P60w8S",
        "outputId": "b9afcb2f-7ead-4b38-da21-465bcc7d4179"
      },
      "execution_count": null,
      "outputs": [
        {
          "output_type": "stream",
          "name": "stdout",
          "text": [
            "Max:  [3 2]\n",
            "Min:  [1 0]\n"
          ]
        }
      ]
    },
    {
      "cell_type": "markdown",
      "source": [
        "Write a NumPy program to calculate the difference between the maximum and the minimum values of a given array along the second axis."
      ],
      "metadata": {
        "id": "0IkzMSDK7TdZ"
      }
    },
    {
      "cell_type": "code",
      "source": [
        "arr = np.array([[3, 0], [1, 2]])\n",
        "print(\"Difference between max and min\", arr.max(axis=0)-arr.min(axis=0))"
      ],
      "metadata": {
        "colab": {
          "base_uri": "https://localhost:8080/"
        },
        "id": "eiQiLu6t09zB",
        "outputId": "8c897698-55c1-4cbf-92ef-d6496c40aa2b"
      },
      "execution_count": null,
      "outputs": [
        {
          "output_type": "stream",
          "name": "stdout",
          "text": [
            "Difference between max and min [2 2]\n"
          ]
        }
      ]
    },
    {
      "cell_type": "markdown",
      "source": [
        "Write a NumPy program to compute the 80th percentile for all elements in a given array along the second axis."
      ],
      "metadata": {
        "id": "MFD48mqj7Vc_"
      }
    },
    {
      "cell_type": "code",
      "source": [
        "arr = np.array([[0, 3, 4], [5, 2, 1]])\n",
        "print(\"80th Percentile\", np.percentile(arr, 80, axis=1))"
      ],
      "metadata": {
        "colab": {
          "base_uri": "https://localhost:8080/"
        },
        "id": "52nYyuHs1Ljm",
        "outputId": "fd8d7908-4198-4d98-d0ee-325d5ade6f7c"
      },
      "execution_count": null,
      "outputs": [
        {
          "output_type": "stream",
          "name": "stdout",
          "text": [
            "80th Percentile [3.6 3.8]\n"
          ]
        }
      ]
    },
    {
      "cell_type": "markdown",
      "source": [
        "Write a NumPy program to compute the median of flattened given array."
      ],
      "metadata": {
        "id": "7ElPxyWR7XRy"
      }
    },
    {
      "cell_type": "code",
      "source": [
        "data = np.array([1, 2, 3, 4, 5, 6, 7, 8, 9, 10])\n",
        "\n",
        "median = np.percentile(data, 50)\n",
        "print(\"Median:\", median)\n",
        "\n",
        "q25, q75 = np.percentile(data, [25, 75])\n",
        "print(\"25th Percentile:\", q25)\n",
        "print(\"75th Percentile:\", q75)"
      ],
      "metadata": {
        "colab": {
          "base_uri": "https://localhost:8080/"
        },
        "id": "bli2hoLm2KzV",
        "outputId": "2a708c9e-17b2-4ebd-ff5e-5fae7e02b997"
      },
      "execution_count": null,
      "outputs": [
        {
          "output_type": "stream",
          "name": "stdout",
          "text": [
            "Median: 5.5\n",
            "25th Percentile: 3.25\n",
            "75th Percentile: 7.75\n"
          ]
        }
      ]
    },
    {
      "cell_type": "markdown",
      "source": [
        "Write a NumPy program to compute the weighted of a given array.\n"
      ],
      "metadata": {
        "id": "8oDcyDb07Y8n"
      }
    },
    {
      "cell_type": "code",
      "source": [
        "data = np.array([0,1,2,3,4])\n",
        "x = np.arange(len(data))+1\n",
        "print((x*(data/data.sum())).sum())"
      ],
      "metadata": {
        "colab": {
          "base_uri": "https://localhost:8080/"
        },
        "id": "kUZ3m5nB57iB",
        "outputId": "2ee684c4-bf1f-4514-ac85-716ab75b9dea"
      },
      "execution_count": null,
      "outputs": [
        {
          "output_type": "stream",
          "name": "stdout",
          "text": [
            "2.666666666666667\n"
          ]
        }
      ]
    },
    {
      "cell_type": "markdown",
      "source": [
        "Write a NumPy program to compute the mean, standard deviation, and variance of a given array along the second axis."
      ],
      "metadata": {
        "id": "1Ebairjw9opA"
      }
    },
    {
      "cell_type": "code",
      "source": [
        "data = np.array([[3, 0], [1, 2]])\n",
        "\n",
        "print(\"Mean:\", data.mean(axis=1))\n",
        "print(\"Std: \", data.std(axis=1))\n",
        "print(\"Variance: \", np.var(data, axis=1))"
      ],
      "metadata": {
        "colab": {
          "base_uri": "https://localhost:8080/"
        },
        "id": "oLKnAwer7T_N",
        "outputId": "a5271ab2-d7f2-430a-944a-3d2bfae3a4f0"
      },
      "execution_count": null,
      "outputs": [
        {
          "output_type": "stream",
          "name": "stdout",
          "text": [
            "Mean: [1.5 1.5]\n",
            "Std:  [1.5 0.5]\n",
            "Variance:  [2.25 0.25]\n"
          ]
        }
      ]
    },
    {
      "cell_type": "markdown",
      "source": [
        "Write a NumPy program to compute the covariance matrix of two given arrays. Covariance is a statistical term that refers to a systematic relationship between two random variables in which a change in the other reflects a change in one variable."
      ],
      "metadata": {
        "id": "uS0aRau89rYg"
      }
    },
    {
      "cell_type": "code",
      "source": [
        "a = np.array([0, 1, 2])\n",
        "b = np.array([2, 1, 0])\n",
        "print(\"Covariance: \", np.cov(a, b))"
      ],
      "metadata": {
        "id": "s1dCVHiUIKdP",
        "colab": {
          "base_uri": "https://localhost:8080/"
        },
        "outputId": "76222023-4e34-4312-b848-47b87cc12039"
      },
      "execution_count": null,
      "outputs": [
        {
          "output_type": "stream",
          "name": "stdout",
          "text": [
            "Covariance:  [[ 1. -1.]\n",
            " [-1.  1.]]\n"
          ]
        }
      ]
    },
    {
      "cell_type": "markdown",
      "source": [
        "Write a NumPy program to compute cross-correlation of two given arrays."
      ],
      "metadata": {
        "id": "RVuFaSyTApYp"
      }
    },
    {
      "cell_type": "code",
      "source": [
        "a = np.array([0, 1, 3])\n",
        "b = np.array([2, 4, 5])\n",
        "print(\"Cross corralation: \", np.correlate(a, b))"
      ],
      "metadata": {
        "colab": {
          "base_uri": "https://localhost:8080/"
        },
        "id": "9zw0iT0p98Bx",
        "outputId": "a977714a-9618-43c1-a4bf-a090e573327b"
      },
      "execution_count": null,
      "outputs": [
        {
          "output_type": "stream",
          "name": "stdout",
          "text": [
            "Cross corralation:  [19]\n"
          ]
        }
      ]
    },
    {
      "cell_type": "markdown",
      "source": [
        "Write a NumPy program to compute pearson product-moment correlation coefficients of two given arrays."
      ],
      "metadata": {
        "id": "uPnzyssDB8yA"
      }
    },
    {
      "cell_type": "markdown",
      "source": [],
      "metadata": {
        "id": "5ObK-CO4gN4t"
      }
    },
    {
      "cell_type": "code",
      "source": [
        "a = np.array([0, 1, 3])\n",
        "b = np.array([2, 4, 5])\n",
        "print(\"Product moment correlation: \", np.corrcoef(a, b))"
      ],
      "metadata": {
        "colab": {
          "base_uri": "https://localhost:8080/"
        },
        "id": "bMO5iwoMB5ZJ",
        "outputId": "3e7aa621-974e-45c5-ae94-14ccc5cce754"
      },
      "execution_count": null,
      "outputs": [
        {
          "output_type": "stream",
          "name": "stdout",
          "text": [
            "Product moment correlation:  [[1.         0.92857143]\n",
            " [0.92857143 1.        ]]\n"
          ]
        }
      ]
    },
    {
      "cell_type": "markdown",
      "source": [
        "Compute the outer product of two given vectors\n"
      ],
      "metadata": {
        "id": "HLjyvsFqfWNZ"
      }
    },
    {
      "cell_type": "code",
      "source": [
        "p = [[1, 0], [0, 1]]\n",
        "q = [[1, 2], [3, 4]]\n",
        "print(\"Outer product: \", np.outer(p, q))"
      ],
      "metadata": {
        "id": "J1OwYQ7lFePJ",
        "colab": {
          "base_uri": "https://localhost:8080/"
        },
        "outputId": "39299843-e833-4da8-b5a6-dd04759856a8"
      },
      "execution_count": null,
      "outputs": [
        {
          "output_type": "stream",
          "name": "stdout",
          "text": [
            "Outer product:  [[1 2 3 4]\n",
            " [0 0 0 0]\n",
            " [0 0 0 0]\n",
            " [1 2 3 4]]\n"
          ]
        }
      ]
    },
    {
      "cell_type": "markdown",
      "source": [
        "Compute the inner product of vectors for 1-D arrays and in higher dimension"
      ],
      "metadata": {
        "id": "NS4uluXDgz4A"
      }
    },
    {
      "cell_type": "code",
      "source": [
        "p = [[1, 0], [0, 1]]\n",
        "q = [[1, 2], [3, 4]]\n",
        "print(\"Inner product: \", np.inner(p, q))"
      ],
      "metadata": {
        "colab": {
          "base_uri": "https://localhost:8080/"
        },
        "id": "iLfH5tV9g0kY",
        "outputId": "fc4ffcf8-bc0c-478a-e89d-d8143db7a701"
      },
      "execution_count": null,
      "outputs": [
        {
          "output_type": "stream",
          "name": "stdout",
          "text": [
            "Inner product:  [[1 3]\n",
            " [2 4]]\n"
          ]
        }
      ]
    },
    {
      "cell_type": "markdown",
      "source": [
        "Compute the determinant of a matrix\n",
        "\n",
        "\n",
        "\n",
        "> Indented block\n",
        "\n"
      ],
      "metadata": {
        "id": "yuWnQS9Zf2Ya"
      }
    },
    {
      "cell_type": "code",
      "source": [
        "q = [[1, 2], [3, 4]]\n",
        "print(\"Determinant of matrix: \", np.linalg.det(q))"
      ],
      "metadata": {
        "id": "iZSy_6irvv0Q",
        "colab": {
          "base_uri": "https://localhost:8080/"
        },
        "outputId": "edc6177a-9f18-4631-e839-b590c59d399b"
      },
      "execution_count": null,
      "outputs": [
        {
          "output_type": "stream",
          "name": "stdout",
          "text": [
            "Determinant of matrix:  -2.0000000000000004\n"
          ]
        }
      ]
    },
    {
      "cell_type": "markdown",
      "source": [
        "Compute the inverse of a given matrix"
      ],
      "metadata": {
        "id": "rBIQXF3ngP-k"
      }
    },
    {
      "cell_type": "code",
      "source": [
        "q = [[1, 2], [3, 4]]\n",
        "print(\"Inverse of matrix: \", np.linalg.inv(q))"
      ],
      "metadata": {
        "id": "lTkC7CL01wOc",
        "colab": {
          "base_uri": "https://localhost:8080/"
        },
        "outputId": "f4925b26-dcc6-4bb6-c583-56ea3b9123bc"
      },
      "execution_count": null,
      "outputs": [
        {
          "output_type": "stream",
          "name": "stdout",
          "text": [
            "Inverse of matrix:  [[-2.   1. ]\n",
            " [ 1.5 -0.5]]\n"
          ]
        }
      ]
    },
    {
      "cell_type": "markdown",
      "source": [
        "Find a matrix or vector norm"
      ],
      "metadata": {
        "id": "zyNcjHhigoXn"
      }
    },
    {
      "cell_type": "code",
      "source": [
        "q = [[1, 2], [3, 4]]\n",
        "print(\"Norm of matrix: \", np.linalg.norm(q))"
      ],
      "metadata": {
        "colab": {
          "base_uri": "https://localhost:8080/"
        },
        "id": "mgsECdbcgUS5",
        "outputId": "6a25fcf0-c9f0-437f-bd47-312c5b994dfe"
      },
      "execution_count": null,
      "outputs": [
        {
          "output_type": "stream",
          "name": "stdout",
          "text": [
            "Norm of matrix:  5.477225575051661\n"
          ]
        }
      ]
    },
    {
      "cell_type": "markdown",
      "source": [
        "Write a NumPy program to capitalize the first letter, lowercase, uppercase, swapcase, title-case of all the elements of a given array.\n",
        "\n"
      ],
      "metadata": {
        "id": "IE49ht1mCdb-"
      }
    },
    {
      "cell_type": "code",
      "source": [
        "x = np.array(['python', 'PHP', 'java', 'C++'], dtype=str)\n",
        "\n",
        "capitalized_case = np.char.capitalize(x)\n",
        "print(\"\\nCapitalized: \", capitalized_case)\n",
        "lowered_case = np.char.lower(x)\n",
        "print(\"Lowered: \", lowered_case)\n",
        "uppered_case = np.char.upper(x)\n",
        "print(\"Uppered: \", uppered_case)\n",
        "swapcased_case = np.char.swapcase(x)\n",
        "print(\"Swapcased: \", swapcased_case)\n",
        "titlecased_case = np.char.title(x)\n",
        "print(\"Titlecased: \", titlecased_case)\n"
      ],
      "metadata": {
        "colab": {
          "base_uri": "https://localhost:8080/"
        },
        "id": "vZ1TTIZbCZ95",
        "outputId": "5e944919-7cdb-4908-d320-410e5185ab07"
      },
      "execution_count": null,
      "outputs": [
        {
          "output_type": "stream",
          "name": "stdout",
          "text": [
            "\n",
            "Capitalized:  ['Python' 'Php' 'Java' 'C++']\n",
            "Lowered:  ['python' 'php' 'java' 'c++']\n",
            "Uppered:  ['PYTHON' 'PHP' 'JAVA' 'C++']\n",
            "Swapcased:  ['PYTHON' 'php' 'JAVA' 'c++']\n",
            "Titlecased:  ['Python' 'Php' 'Java' 'C++']\n"
          ]
        }
      ]
    },
    {
      "cell_type": "markdown",
      "source": [
        "Write a NumPy program to make the length of each element 15 of a given array and the string centered / left-justified / right-justified with paddings of _.\n",
        "\n"
      ],
      "metadata": {
        "id": "z8A5qZ3dC7GZ"
      }
    },
    {
      "cell_type": "code",
      "source": [
        "x = np.array(['python exercises', 'PHP', 'java', 'C++'], dtype=str)\n",
        "centered = np.char.center(x, 15, fillchar='_')\n",
        "print(\"\\nCentered =\", centered)\n",
        "left = np.char.ljust(x, 15, fillchar='_')\n",
        "print(\"Left =\", left)\n",
        "right = np.char.rjust(x, 15, fillchar='_')\n",
        "print(\"Right =\", right)"
      ],
      "metadata": {
        "id": "eHPEdOFHgrOg",
        "colab": {
          "base_uri": "https://localhost:8080/"
        },
        "outputId": "4b64a970-7ca9-42fa-bd36-f37d2ff75d69"
      },
      "execution_count": null,
      "outputs": [
        {
          "output_type": "stream",
          "name": "stdout",
          "text": [
            "\n",
            "Centered = ['python exercise' '______PHP______' '______java_____' '______C++______']\n",
            "Left = ['python exercise' 'PHP____________' 'java___________' 'C++____________']\n",
            "Right = ['python exercise' '____________PHP' '___________java' '____________C++']\n"
          ]
        }
      ]
    },
    {
      "cell_type": "markdown",
      "source": [
        "Write a NumPy program to insert a space between characters of all the elements of a given array.\n",
        "\n"
      ],
      "metadata": {
        "id": "QQuD4mKfDOQu"
      }
    },
    {
      "cell_type": "code",
      "source": [
        "x = np.array(['python exercises', 'PHP', 'java', 'C++'], dtype=str)\n",
        "print(np.char.join(\" \", x))"
      ],
      "metadata": {
        "colab": {
          "base_uri": "https://localhost:8080/"
        },
        "id": "d0I6hoKZDGnJ",
        "outputId": "9cb26caf-2e8f-4192-e3f2-361289c8a9b5"
      },
      "execution_count": null,
      "outputs": [
        {
          "output_type": "stream",
          "name": "stdout",
          "text": [
            "['p y t h o n   e x e r c i s e s' 'P H P' 'j a v a' 'C + +']\n"
          ]
        }
      ]
    },
    {
      "cell_type": "markdown",
      "source": [
        "Write a NumPy program to remove the leading and trailing whitespaces of all the elements of a given array.\n",
        "\n"
      ],
      "metadata": {
        "id": "-r7dChZuDrUz"
      }
    },
    {
      "cell_type": "code",
      "source": [
        "x = np.array(['    python exercises  ', ' PHP', '  java', 'C++  '], dtype=str)\n",
        "print(\"Remove the leading and trailing whitespaces:\\n\", np.char.strip(x))"
      ],
      "metadata": {
        "colab": {
          "base_uri": "https://localhost:8080/"
        },
        "id": "_KerdZ15DcPm",
        "outputId": "e8c23e9c-de02-4177-f2c2-1ac742681252"
      },
      "execution_count": null,
      "outputs": [
        {
          "output_type": "stream",
          "name": "stdout",
          "text": [
            "Remove the leading and trailing whitespaces:\n",
            " ['python exercises' 'PHP' 'java' 'C++']\n"
          ]
        }
      ]
    },
    {
      "cell_type": "markdown",
      "source": [
        "Write a NumPy program to split the element of a given array to multiple lines.\n",
        "\n"
      ],
      "metadata": {
        "id": "hCp7EjH6I_9P"
      }
    },
    {
      "cell_type": "code",
      "source": [
        "x = np.array(['python exercises\\nPHP\\n', 'java\\n\\nC++'], dtype=str)\n",
        "print(np.char.splitlines(x))"
      ],
      "metadata": {
        "colab": {
          "base_uri": "https://localhost:8080/"
        },
        "id": "soO0tGkREJOs",
        "outputId": "91594c13-7397-43d9-cb4a-5c703ec17903"
      },
      "execution_count": null,
      "outputs": [
        {
          "output_type": "stream",
          "name": "stdout",
          "text": [
            "[list(['python exercises', 'PHP']) list(['java', '', 'C++'])]\n"
          ]
        }
      ]
    },
    {
      "cell_type": "markdown",
      "source": [
        "Write a NumPy program to replace \"PHP\" with \"Python\" in the element of a given array.\n",
        "\n"
      ],
      "metadata": {
        "id": "Q3YvYV5rJaoT"
      }
    },
    {
      "cell_type": "code",
      "source": [
        "x = np.array(['python exercises', 'PHP', 'java', 'C++'], dtype=str)\n",
        "print(np.char.replace(x, \"PHP\", \"Python\"))"
      ],
      "metadata": {
        "colab": {
          "base_uri": "https://localhost:8080/"
        },
        "id": "CdKdy1aXJM72",
        "outputId": "e3d3bbb2-102d-433a-ce0f-f5720314f3b9"
      },
      "execution_count": null,
      "outputs": [
        {
          "output_type": "stream",
          "name": "stdout",
          "text": [
            "['python exercises' 'Python' 'java' 'C++']\n"
          ]
        }
      ]
    },
    {
      "cell_type": "markdown",
      "source": [
        "Write a NumPy program to count the number of \"P\" in a given array, element-wise.\n",
        "\n"
      ],
      "metadata": {
        "id": "mVXepB54JuTO"
      }
    },
    {
      "cell_type": "code",
      "source": [
        "x = np.array(['python exercises', 'php', 'java', 'C++'], dtype=str)\n",
        "print(np.char.count(x,  \"p\"))"
      ],
      "metadata": {
        "colab": {
          "base_uri": "https://localhost:8080/"
        },
        "id": "GXh8fHDXJlj0",
        "outputId": "bab9bc57-db99-40b7-fbba-633e5cffbf3c"
      },
      "execution_count": null,
      "outputs": [
        {
          "output_type": "stream",
          "name": "stdout",
          "text": [
            "[1 2 0 0]\n"
          ]
        }
      ]
    },
    {
      "cell_type": "markdown",
      "source": [
        "Write a NumPy program to check whether each element of a given array is composed of digits only, lower case letters only and upper case letters only.\n",
        "\n"
      ],
      "metadata": {
        "id": "wLcBY-c1J6Xr"
      }
    },
    {
      "cell_type": "code",
      "source": [
        "x = np.array(['python exercises', 'PHP', 'Js', '5', '126' 'java', 'C++'], dtype=str)\n",
        "print(\"Check a given array is composed of digits only:\\n\", np.char.isdigit(x))\n",
        "print(\"Check a given array is composed of lower letters only:\\n\", np.char.islower(x))\n",
        "print(\"Check a given array is composed of upper letters only:\\n\", np.char.isupper(x))"
      ],
      "metadata": {
        "colab": {
          "base_uri": "https://localhost:8080/"
        },
        "id": "hMFZQ-jXJy84",
        "outputId": "15b9227e-5fa4-489e-806f-bd89941c48d9"
      },
      "execution_count": null,
      "outputs": [
        {
          "output_type": "stream",
          "name": "stdout",
          "text": [
            "Check a given array is composed of digits only:\n",
            " [False False False  True False False]\n",
            "Check a given array is composed of lower letters only:\n",
            " [ True False False False  True False]\n",
            "Check a given array is composed of upper letters only:\n",
            " [False  True False False False  True]\n"
          ]
        }
      ]
    },
    {
      "cell_type": "markdown",
      "source": [
        "Write a NumPy program to check whether each element of a given array starts with \"P\".\n",
        "\n"
      ],
      "metadata": {
        "id": "FkNG8GXyKil2"
      }
    },
    {
      "cell_type": "code",
      "source": [
        "x = np.array(['python exercises', 'PHP', 'Js', '5', '126' 'java', 'C++'], dtype=str)\n",
        "print(\"Check a given array is start with 'P':\\n\", np.char.startswith(x, \"P\"))\n"
      ],
      "metadata": {
        "colab": {
          "base_uri": "https://localhost:8080/"
        },
        "id": "GN9MZZkvKYDn",
        "outputId": "828672ab-757e-4ddb-f8dd-6c3538aa4868"
      },
      "execution_count": null,
      "outputs": [
        {
          "output_type": "stream",
          "name": "stdout",
          "text": [
            "Check a given array is start with 'P':\n",
            " [False  True False False False False]\n"
          ]
        }
      ]
    },
    {
      "cell_type": "code",
      "source": [],
      "metadata": {
        "id": "4ChHeEi1Kmgn"
      },
      "execution_count": null,
      "outputs": []
    }
  ]
}